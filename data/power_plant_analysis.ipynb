{
 "cells": [
  {
   "cell_type": "code",
   "execution_count": 1,
   "id": "f0be0288-cfd8-4dc9-86df-db44348564bc",
   "metadata": {},
   "outputs": [],
   "source": [
    "import pandas as pd\n",
    "import os"
   ]
  },
  {
   "cell_type": "code",
   "execution_count": 6,
   "id": "5c68b04d-739f-40c1-91d5-f663a2dbbee1",
   "metadata": {},
   "outputs": [],
   "source": [
    "# Set the path to your folder\n",
    "folder_path = 'global_power_plant_database'"
   ]
  },
  {
   "cell_type": "code",
   "execution_count": 7,
   "id": "3b2eaa3d-3029-40c2-b41f-a1fbe1b54329",
   "metadata": {},
   "outputs": [
    {
     "ename": "FileNotFoundError",
     "evalue": "[Errno 2] No such file or directory: 'global_power_plant_database'",
     "output_type": "error",
     "traceback": [
      "\u001b[31m---------------------------------------------------------------------------\u001b[39m",
      "\u001b[31mFileNotFoundError\u001b[39m                         Traceback (most recent call last)",
      "\u001b[36mCell\u001b[39m\u001b[36m \u001b[39m\u001b[32mIn[7]\u001b[39m\u001b[32m, line 2\u001b[39m\n\u001b[32m      1\u001b[39m \u001b[38;5;66;03m# List all CSV files in the folder\u001b[39;00m\n\u001b[32m----> \u001b[39m\u001b[32m2\u001b[39m csv_files = [file \u001b[38;5;28;01mfor\u001b[39;00m file \u001b[38;5;129;01min\u001b[39;00m \u001b[43mos\u001b[49m\u001b[43m.\u001b[49m\u001b[43mlistdir\u001b[49m\u001b[43m(\u001b[49m\u001b[43mfolder_path\u001b[49m\u001b[43m)\u001b[49m \u001b[38;5;28;01mif\u001b[39;00m file.endswith(\u001b[33m'\u001b[39m\u001b[33m.csv\u001b[39m\u001b[33m'\u001b[39m)]\n",
      "\u001b[31mFileNotFoundError\u001b[39m: [Errno 2] No such file or directory: 'global_power_plant_database'"
     ]
    }
   ],
   "source": [
    "# List all CSV files in the folder\n",
    "csv_files = [file for file in os.listdir(folder_path) if file.endswith('.csv')]"
   ]
  },
  {
   "cell_type": "code",
   "execution_count": 9,
   "id": "daff3e30-e361-4afa-8459-df7ecef49e84",
   "metadata": {},
   "outputs": [
    {
     "name": "stdout",
     "output_type": "stream",
     "text": [
      "Folder does not exist\n"
     ]
    }
   ],
   "source": [
    " import os\n",
    "\n",
    " folder_path = 'global_power_plant_database'\n",
    " if os.path.exists(folder_path):\n",
    "     print(\"Folder exists\")\n",
    " else:\n",
    "     print(\"Folder does not exist\")"
   ]
  },
  {
   "cell_type": "code",
   "execution_count": 10,
   "id": "7f72dbfe-f8f2-476f-b64b-defdac9d10a4",
   "metadata": {},
   "outputs": [
    {
     "name": "stdout",
     "output_type": "stream",
     "text": [
      "Folder does not exist\n"
     ]
    }
   ],
   "source": [
    "import os\n",
    "\n",
    "folder_path = 'Data'\n",
    "if os.path.exists(folder_path):\n",
    "    print(\"Folder exists\")\n",
    "    csv_files = [file for file in os.listdir(folder_path) if file.endswith('.csv')]\n",
    "    print(csv_files)\n",
    "else:\n",
    "    print(\"Folder does not exist\")"
   ]
  },
  {
   "cell_type": "code",
   "execution_count": 11,
   "id": "982d24b6-43f9-48af-a2dc-7c048711f9c9",
   "metadata": {},
   "outputs": [
    {
     "name": "stdout",
     "output_type": "stream",
     "text": [
      "Folder does not exist\n"
     ]
    }
   ],
   "source": [
    "import os\n",
    "\n",
    "folder_path = 'global_power_plant_database'\n",
    "if os.path.exists(folder_path):\n",
    "    print(\"Folder exists\")\n",
    "    csv_files = [file for file in os.listdir(folder_path) if file.endswith('.csv')]\n",
    "    print(csv_files)\n",
    "else:\n",
    "    print(\"Folder does not exist\")"
   ]
  },
  {
   "cell_type": "code",
   "execution_count": 12,
   "id": "3ac7492c-a347-4b39-b6ed-7dbdecf0c953",
   "metadata": {},
   "outputs": [],
   "source": [
    "folder_path = 'path/to/global_power_plant_database'\n"
   ]
  },
  {
   "cell_type": "code",
   "execution_count": 13,
   "id": "f3d2fd23-929e-4587-b982-f8309d44bcf5",
   "metadata": {},
   "outputs": [],
   "source": [
    "folder_path = 'Data/global_power_plant_database'\n"
   ]
  },
  {
   "cell_type": "code",
   "execution_count": 14,
   "id": "d20373d0-16cf-4258-abf0-469dbfb943f4",
   "metadata": {},
   "outputs": [
    {
     "name": "stdout",
     "output_type": "stream",
     "text": [
      "Folder does not exist\n"
     ]
    }
   ],
   "source": [
    "import os\n",
    "\n",
    "folder_path = 'global_power_plant_database'\n",
    "if os.path.exists(folder_path):\n",
    "    print(\"Folder exists\")\n",
    "    csv_files = [file for file in os.listdir(folder_path) if file.endswith('.csv')]\n",
    "    print(csv_files)\n",
    "else:\n",
    "    print(\"Folder does not exist\")"
   ]
  },
  {
   "cell_type": "code",
   "execution_count": null,
   "id": "71d767d7-9b1a-429d-9cd8-d820ceae2a2c",
   "metadata": {},
   "outputs": [],
   "source": []
  }
 ],
 "metadata": {
  "kernelspec": {
   "display_name": "Python 3 (ipykernel)",
   "language": "python",
   "name": "python3"
  },
  "language_info": {
   "codemirror_mode": {
    "name": "ipython",
    "version": 3
   },
   "file_extension": ".py",
   "mimetype": "text/x-python",
   "name": "python",
   "nbconvert_exporter": "python",
   "pygments_lexer": "ipython3",
   "version": "3.13.1"
  }
 },
 "nbformat": 4,
 "nbformat_minor": 5
}
